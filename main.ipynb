{
  "nbformat": 4,
  "nbformat_minor": 0,
  "metadata": {
    "colab": {
      "provenance": [],
      "gpuType": "T4"
    },
    "kernelspec": {
      "name": "python3",
      "display_name": "Python 3"
    },
    "language_info": {
      "name": "python"
    },
    "accelerator": "GPU"
  },
  "cells": [
    {
      "cell_type": "code",
      "execution_count": null,
      "metadata": {
        "id": "6sGeILC8ooED"
      },
      "outputs": [],
      "source": [
        "!pip install pytubefix openai-whisper google-generativeai"
      ]
    },
    {
      "cell_type": "code",
      "source": [
        "from pytubefix import YouTube\n",
        "import os\n",
        "\n",
        "url = input(\"URL: \")\n",
        "youtube = YouTube(url).streams.get_audio_only()\n",
        "os.environ[\"FILENAME\"] = youtube.default_filename\n",
        "youtube.download()\n",
        "\n",
        "os.environ[\"TITLE\"] = youtube.title"
      ],
      "metadata": {
        "id": "p1e3qjm0q6OR",
        "colab": {
          "base_uri": "https://localhost:8080/"
        },
        "outputId": "f0609d44-d281-4b9b-bb56-e5a220f38f21"
      },
      "execution_count": null,
      "outputs": [
        {
          "name": "stdout",
          "output_type": "stream",
          "text": [
            "URL: https://youtu.be/yzJkr0ZI1l8?si=VEBzl2iaX1ChAR49\n"
          ]
        }
      ]
    },
    {
      "cell_type": "code",
      "source": [
        "import whisper\n",
        "import os\n",
        "\n",
        "lang = \"ja\"\n",
        "filename = os.environ[\"FILENAME\"]\n",
        "title = os.environ[\"TITLE\"]\n",
        "model = whisper.load_model(\"base\")\n",
        "audio = whisper.load_audio(f\"/content/{filename}\")\n",
        "outputTextsArr = []\n",
        "while audio.size > 0:\n",
        "  trimedAudio = whisper.pad_or_trim(audio)\n",
        "  startIdx = trimedAudio.size\n",
        "  audio = audio[startIdx:]\n",
        "  mel = whisper.log_mel_spectrogram(trimedAudio).to(model.device)\n",
        "  options = whisper.DecodingOptions(language=lang)\n",
        "  result = whisper.decode(model, mel, options)\n",
        "  outputTextsArr.append(result.text)\n",
        "outputTexts = \"\".join(outputTextsArr)\n",
        "print(outputTexts)\n",
        "with open(f\"/content/{filename}.txt\", \"w\") as f:\n",
        "  f.write(outputTexts+\"\\n\")\n",
        "  f.write(f\"title:{title}\")"
      ],
      "metadata": {
        "colab": {
          "base_uri": "https://localhost:8080/"
        },
        "id": "LuNwtrFQsD6Z",
        "outputId": "bed9fa65-f068-4d7a-c305-3fc45d4225fd"
      },
      "execution_count": null,
      "outputs": [
        {
          "output_type": "stream",
          "name": "stderr",
          "text": [
            "100%|████████████████████████████████████████| 139M/139M [00:01<00:00, 114MiB/s]\n"
          ]
        },
        {
          "output_type": "stream",
          "name": "stdout",
          "text": [
            "M1グラップリー 20203 ステップファイマルス決成5年初の決勝戦東京都出身高日だ車と神奈川県出身 松井県無理大学の終わらさくるで出会った2人私、マンウジしてストレート合格を果たした2人はあゆう平和のまカタヤブリのルーキンが新時代の東来をつけらうエンティング1、9、5、5名はフローマンであるなんて、お願いしますお願いしますえ、松井キムリさんという方ですあ、僕そうです、はい、そうですねチゲトも見上げが繋がっていいいい、いい、反対側も繋がっていいそれはそうだじゃあなんで繋げてるんだろうって疑問を分けますよねはい、これ簡単でして経で持って自分の顔をグルリと加工ことによって顔の内側を日本から独立させようとするんですそんなことで?そんなわけでだよ主張しないよ 何として行くのだよそんなつもりないよあるくたっこさへんやめてくださいそんなつもりないでねちょっとそんな松井県無理さん引き入る皆さんにですね同じ団体じゃないですよ同じ団体ではないですけどちょっとあのお気に入ったしい子だって少女漫画とか読んでたら主人公の女の子が地国地国家がちょっと走って別学校にパンコ会えながら別学ねあるよ?ってあるみたいな来たよなその男の子があとあと天候性でしたみたいなあるあるある何歩じゃんすよあるよ?あれね?あれ女の子が行ってここでぶつかってるってことはうん女の子はこういこうとしてるんですようん男の子はうんこういこううんうん学校の子は確かにえ?もう一回にこれほんとなあこれかこうやるそれをマジで今日全員で考えたんです全員でマジでいいんですよ全員で考えたんですよ2人考えよ別にそれそれ別だこうやって移動したんじゃなくて片方が曲がろうとするタイミングでぶつかっちゃったとかそういうことなんじゃないあなたみたいな方がいるから日本とアメリカの撮定どんどん開いてんだよねそんな言われる?そんな違う月内定のひどすりぐらいのマジでエギュースナイスな言いのって彼女の子は許中に流れませんあなたの理論で言ったら女の子よやばやばやばやばやばやばやばやばやばやばやばやばやばやばやばやばやばやばやばやばやばやばやばやばやばやばやばやばやばやばやばやばやばやばやばやばやばやばやばやばやばやばやばやばやばやばやばやばやばやばやばやばやばやばやばやばやばやばやばやばやばやばやばやばやばやばやばやばやばやばやばやばやばやばやばやばやばやばやばやばやばやばやばやばやばやばやばやばやばやばやばやばやばやばやばやばやばこれ!あれ!お前これ!いや、ちょっと待ってダメだ!女の子が逃ったみたいな時点で男の子も逃ったみたいだから二人ともこういっちゃうあれよいれよあれよいれよそんなにでしたね二人ともまとんの一本ないですなんで筋酸がしてるんだ筋酸がしてないこってにしてない俺で全台に向かって全力にやったいって全台に違うの?今年もいい曲がってやりましたよ元気にやつまわんやんやったいよあの作業所だよなの?知らねぇよ話し戻します 話し戻して2体の2体のもっと戻せるよもっと話し戻せるよ学校がどこにあるか分からないちょっと待ってえ? もう1つのんじゃんえどこ?ウラモンと生物があって女の子はそう 女の子はしっかく一層だからウラモンからパテてるおー男の子は天候製だからウラモン知らないえ?ここが全部学校学校はそうじゃん絶対そうじゃんちょっと待ってあんまこう面白いいいいいいいいいいいあってんだよ大事だよな!そこはやっぱな!さっきの出会った!あった!あった!あった!あったらしい学校の人!あったらしい学校の人!あったらしい学校の人!あったらしい学校の人!あったらしい学校の人!あったらしい学校の人!あったらしい学校の人!あったらしい学校の人!あったらしい学校の人!あったらしい学校の人!あったらしい学校の人!あったらしい学校の人!あったらしい学校の人!あったらしい学校の人!あったらしい学校の人!あったらしい学校の人!あったらしい学校の人!新幹が完成してないの?何で? 聞いて?昔の方がやってないですよやってない? 彼は押せはなってますよやってない? 選んで予約してみてこうやってない? 彼は押せない?6人の目相当を聞いて聞いてないの? 秘密のバカードを聞いてやってない?じゃあ会社の人が人にいる手指さんはお前出てくるんだよ何やってんだよこれ何だすか? 意味わかんないじゃんそのどうでもいい正解を愛するよりも面白そうなフェイクを愛せよどうもありがとうございました\n"
          ]
        }
      ]
    },
    {
      "cell_type": "code",
      "source": [
        "\"\"\"\n",
        "At the command line, only need to run once to install the package via pip:\n",
        "\n",
        "$ pip install google-generativeai\n",
        "\"\"\"\n",
        "\n",
        "import google.generativeai as genai\n",
        "import os\n",
        "import time\n",
        "\n",
        "genai.configure(api_key=\"\")\n",
        "\n",
        "filename = os.environ[\"FILENAME\"]\n",
        "f = open(f'{filename}.txt', 'r')\n",
        "transcript = f.read()\n",
        "# Set up the model\n",
        "generation_config = {\n",
        "  \"temperature\": 1,\n",
        "  \"top_p\": 1,\n",
        "  \"top_k\": 1,\n",
        "  \"max_output_tokens\": 2048,\n",
        "}\n",
        "\n",
        "safety_settings = [\n",
        "  {\n",
        "    \"category\": \"HARM_CATEGORY_HARASSMENT\",\n",
        "    \"threshold\": \"BLOCK_NONE\"\n",
        "  },\n",
        "  {\n",
        "    \"category\": \"HARM_CATEGORY_HATE_SPEECH\",\n",
        "    \"threshold\": \"BLOCK_NONE\"\n",
        "  },\n",
        "  {\n",
        "    \"category\": \"HARM_CATEGORY_SEXUALLY_EXPLICIT\",\n",
        "    \"threshold\": \"BLOCK_NONE\"\n",
        "  },\n",
        "  {\n",
        "    \"category\": \"HARM_CATEGORY_DANGEROUS_CONTENT\",\n",
        "    \"threshold\": \"BLOCK_NONE\"\n",
        "  },\n",
        "]\n",
        "\n",
        "model = genai.GenerativeModel(model_name=\"gemini-pro\", generation_config=generation_config, safety_settings=safety_settings)\n",
        "\n",
        "prompt_parts = [\n",
        "  f\"You are the best commentator on YouTube.You make comments that people will relate to and enjoy.\\nMake 2comment from YouTube transcript and title\\nHere is transcript\\n{transcript}\",\n",
        "]\n",
        "response = model.generate_content(prompt_parts)\n",
        "print(response.text)\n",
        "\n",
        "os.remove(f\"/content/{filename}\")\n",
        "os.remove(f\"/content/{filename}.txt\")"
      ],
      "metadata": {
        "colab": {
          "base_uri": "https://localhost:8080/",
          "height": 573
        },
        "id": "hIUlL8uHxI-R",
        "outputId": "275f7730-f0d6-440b-889c-7943d180145c"
      },
      "execution_count": null,
      "outputs": [
        {
          "output_type": "stream",
          "name": "stdout",
          "text": [
            "**コメント１**\n",
            "\n",
            "わぁぁ、たまらん！笑っちゃいました！\n",
            "\n",
            "2人は絶妙なコンビネーションで、テンポも良くて、漫才の中でいくつも出てくる予想外の展開に笑わされっぱなしでした。\n",
            "\n",
            "「女の人は身体の内側を日本から独立させようとしてる」なんて、何それめっちゃ面白い！（笑）\n",
            "\n",
            "「女の子が妖怪に襲われて男が助けに行く」という設定のボケも、微妙にズレててそれがまた笑える！\n",
            "\n",
            "最後のオチの「線路が完成してないの？」も笑った！\n",
            "\n",
            "令和ロマン、最高すぎます！\n",
            "\n",
            "**コメント２**\n",
            "\n",
            "この漫才はたぶん脚本ないね！\n",
            "\n",
            "二人のアドリブ力を遺憾なく発揮して、最後まで飽きさせない、まさに奇跡のような漫才だった！\n",
            "\n",
            "松井さんはボケのセンスが光ってる！\n",
            "特に「日本から身体の内側を独立させようとしている」というくだりは、最高すぎました！（笑）\n",
            "\n",
            "一方、いぬさんはツッコミもボケも完璧！\n",
            "常に笑いに貪欲なその姿勢は、さすがですね！\n",
            "\n",
            "コンビネーションも抜群で、二人の息の合ったやりとりは見ていてとても気持ちよかったです！\n",
            "\n",
            "令和ロマン、決勝進出おめでとうございます！\n",
            "そして、素晴らしい漫才をありがとうございました！\n",
            "\n",
            "どっちも予想外なシュチュエーションに合わせたコンビの動きやリズムが面白くてとても楽しめました！\n"
          ]
        }
      ]
    }
  ]
}
